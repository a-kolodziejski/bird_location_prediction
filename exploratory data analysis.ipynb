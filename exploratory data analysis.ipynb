{
 "cells": [
  {
   "cell_type": "markdown",
   "id": "3d7e48b7",
   "metadata": {},
   "source": [
    "### Imports"
   ]
  },
  {
   "cell_type": "code",
   "execution_count": null,
   "id": "928eb829",
   "metadata": {},
   "outputs": [],
   "source": [
    "import pandas as pd"
   ]
  },
  {
   "cell_type": "markdown",
   "id": "c089bd47",
   "metadata": {},
   "source": [
    "### Data exploration"
   ]
  },
  {
   "cell_type": "markdown",
   "id": "0078da25",
   "metadata": {},
   "source": [
    "##### Data used to analyze bird location patterns are not available due to copyright restrictions."
   ]
  },
  {
   "cell_type": "code",
   "execution_count": 62,
   "id": "15c28c7c",
   "metadata": {},
   "outputs": [
    {
     "data": {
      "text/plain": [
       "9673199"
      ]
     },
     "execution_count": 62,
     "metadata": {},
     "output_type": "execute_result"
    }
   ],
   "source": [
    "# Number of rows\n",
    "len(df)"
   ]
  },
  {
   "cell_type": "code",
   "execution_count": 4,
   "id": "8258d3c1",
   "metadata": {},
   "outputs": [
    {
     "data": {
      "text/plain": [
       "Index(['id', 'uuid', 'turbine', 'size_category', 'x', 'y', 'z', 'time',\n",
       "       'timestamp', 'lat', 'lng', 'alt', 'distance', 'distance_absolute'],\n",
       "      dtype='object')"
      ]
     },
     "execution_count": 4,
     "metadata": {},
     "output_type": "execute_result"
    }
   ],
   "source": [
    "# Column names\n",
    "df.columns"
   ]
  },
  {
   "cell_type": "code",
   "execution_count": 4,
   "id": "9d57a849",
   "metadata": {},
   "outputs": [
    {
     "data": {
      "text/html": [
       "<div>\n",
       "<style scoped>\n",
       "    .dataframe tbody tr th:only-of-type {\n",
       "        vertical-align: middle;\n",
       "    }\n",
       "\n",
       "    .dataframe tbody tr th {\n",
       "        vertical-align: top;\n",
       "    }\n",
       "\n",
       "    .dataframe thead th {\n",
       "        text-align: right;\n",
       "    }\n",
       "</style>\n",
       "<table border=\"1\" class=\"dataframe\">\n",
       "  <thead>\n",
       "    <tr style=\"text-align: right;\">\n",
       "      <th></th>\n",
       "      <th>uuid</th>\n",
       "      <th>x</th>\n",
       "      <th>y</th>\n",
       "      <th>z</th>\n",
       "      <th>time</th>\n",
       "    </tr>\n",
       "  </thead>\n",
       "  <tbody>\n",
       "    <tr>\n",
       "      <th>0</th>\n",
       "      <td>29f7ed67-b42c-4bfe-9755-bcb89ba48e7b</td>\n",
       "      <td>128</td>\n",
       "      <td>99</td>\n",
       "      <td>28</td>\n",
       "      <td>2023-03-03 07:35:56.738</td>\n",
       "    </tr>\n",
       "    <tr>\n",
       "      <th>1</th>\n",
       "      <td>29f7ed67-b42c-4bfe-9755-bcb89ba48e7b</td>\n",
       "      <td>126</td>\n",
       "      <td>99</td>\n",
       "      <td>28</td>\n",
       "      <td>2023-03-03 07:35:57.019</td>\n",
       "    </tr>\n",
       "    <tr>\n",
       "      <th>2</th>\n",
       "      <td>29f7ed67-b42c-4bfe-9755-bcb89ba48e7b</td>\n",
       "      <td>126</td>\n",
       "      <td>99</td>\n",
       "      <td>28</td>\n",
       "      <td>2023-03-03 07:35:57.058</td>\n",
       "    </tr>\n",
       "    <tr>\n",
       "      <th>3</th>\n",
       "      <td>29f7ed67-b42c-4bfe-9755-bcb89ba48e7b</td>\n",
       "      <td>126</td>\n",
       "      <td>99</td>\n",
       "      <td>28</td>\n",
       "      <td>2023-03-03 07:35:57.089</td>\n",
       "    </tr>\n",
       "    <tr>\n",
       "      <th>4</th>\n",
       "      <td>29f7ed67-b42c-4bfe-9755-bcb89ba48e7b</td>\n",
       "      <td>122</td>\n",
       "      <td>100</td>\n",
       "      <td>28</td>\n",
       "      <td>2023-03-03 07:35:57.394</td>\n",
       "    </tr>\n",
       "    <tr>\n",
       "      <th>5</th>\n",
       "      <td>29f7ed67-b42c-4bfe-9755-bcb89ba48e7b</td>\n",
       "      <td>120</td>\n",
       "      <td>100</td>\n",
       "      <td>28</td>\n",
       "      <td>2023-03-03 07:35:57.683</td>\n",
       "    </tr>\n",
       "    <tr>\n",
       "      <th>6</th>\n",
       "      <td>29f7ed67-b42c-4bfe-9755-bcb89ba48e7b</td>\n",
       "      <td>119</td>\n",
       "      <td>100</td>\n",
       "      <td>28</td>\n",
       "      <td>2023-03-03 07:35:57.769</td>\n",
       "    </tr>\n",
       "    <tr>\n",
       "      <th>7</th>\n",
       "      <td>29f7ed67-b42c-4bfe-9755-bcb89ba48e7b</td>\n",
       "      <td>119</td>\n",
       "      <td>100</td>\n",
       "      <td>28</td>\n",
       "      <td>2023-03-03 07:35:57.807</td>\n",
       "    </tr>\n",
       "    <tr>\n",
       "      <th>8</th>\n",
       "      <td>29f7ed67-b42c-4bfe-9755-bcb89ba48e7b</td>\n",
       "      <td>116</td>\n",
       "      <td>101</td>\n",
       "      <td>28</td>\n",
       "      <td>2023-03-03 07:35:58.057</td>\n",
       "    </tr>\n",
       "    <tr>\n",
       "      <th>9</th>\n",
       "      <td>29f7ed67-b42c-4bfe-9755-bcb89ba48e7b</td>\n",
       "      <td>116</td>\n",
       "      <td>101</td>\n",
       "      <td>28</td>\n",
       "      <td>2023-03-03 07:35:58.112</td>\n",
       "    </tr>\n",
       "    <tr>\n",
       "      <th>10</th>\n",
       "      <td>29f7ed67-b42c-4bfe-9755-bcb89ba48e7b</td>\n",
       "      <td>113</td>\n",
       "      <td>102</td>\n",
       "      <td>28</td>\n",
       "      <td>2023-03-03 07:35:58.432</td>\n",
       "    </tr>\n",
       "    <tr>\n",
       "      <th>11</th>\n",
       "      <td>29f7ed67-b42c-4bfe-9755-bcb89ba48e7b</td>\n",
       "      <td>113</td>\n",
       "      <td>102</td>\n",
       "      <td>28</td>\n",
       "      <td>2023-03-03 07:35:58.463</td>\n",
       "    </tr>\n",
       "    <tr>\n",
       "      <th>12</th>\n",
       "      <td>29f7ed67-b42c-4bfe-9755-bcb89ba48e7b</td>\n",
       "      <td>113</td>\n",
       "      <td>102</td>\n",
       "      <td>28</td>\n",
       "      <td>2023-03-03 07:35:58.519</td>\n",
       "    </tr>\n",
       "    <tr>\n",
       "      <th>13</th>\n",
       "      <td>29f7ed67-b42c-4bfe-9755-bcb89ba48e7b</td>\n",
       "      <td>110</td>\n",
       "      <td>103</td>\n",
       "      <td>29</td>\n",
       "      <td>2023-03-03 07:35:58.737</td>\n",
       "    </tr>\n",
       "    <tr>\n",
       "      <th>14</th>\n",
       "      <td>29f7ed67-b42c-4bfe-9755-bcb89ba48e7b</td>\n",
       "      <td>109</td>\n",
       "      <td>103</td>\n",
       "      <td>29</td>\n",
       "      <td>2023-03-03 07:35:58.808</td>\n",
       "    </tr>\n",
       "    <tr>\n",
       "      <th>15</th>\n",
       "      <td>29f7ed67-b42c-4bfe-9755-bcb89ba48e7b</td>\n",
       "      <td>108</td>\n",
       "      <td>103</td>\n",
       "      <td>29</td>\n",
       "      <td>2023-03-03 07:35:58.863</td>\n",
       "    </tr>\n",
       "    <tr>\n",
       "      <th>16</th>\n",
       "      <td>29f7ed67-b42c-4bfe-9755-bcb89ba48e7b</td>\n",
       "      <td>107</td>\n",
       "      <td>103</td>\n",
       "      <td>29</td>\n",
       "      <td>2023-03-03 07:35:58.932</td>\n",
       "    </tr>\n",
       "    <tr>\n",
       "      <th>17</th>\n",
       "      <td>29f7ed67-b42c-4bfe-9755-bcb89ba48e7b</td>\n",
       "      <td>105</td>\n",
       "      <td>104</td>\n",
       "      <td>29</td>\n",
       "      <td>2023-03-03 07:35:59.119</td>\n",
       "    </tr>\n",
       "    <tr>\n",
       "      <th>18</th>\n",
       "      <td>29f7ed67-b42c-4bfe-9755-bcb89ba48e7b</td>\n",
       "      <td>103</td>\n",
       "      <td>104</td>\n",
       "      <td>29</td>\n",
       "      <td>2023-03-03 07:35:59.241</td>\n",
       "    </tr>\n",
       "    <tr>\n",
       "      <th>19</th>\n",
       "      <td>29f7ed67-b42c-4bfe-9755-bcb89ba48e7b</td>\n",
       "      <td>103</td>\n",
       "      <td>104</td>\n",
       "      <td>29</td>\n",
       "      <td>2023-03-03 07:35:59.241</td>\n",
       "    </tr>\n",
       "  </tbody>\n",
       "</table>\n",
       "</div>"
      ],
      "text/plain": [
       "                                    uuid    x    y   z                    time\n",
       "0   29f7ed67-b42c-4bfe-9755-bcb89ba48e7b  128   99  28 2023-03-03 07:35:56.738\n",
       "1   29f7ed67-b42c-4bfe-9755-bcb89ba48e7b  126   99  28 2023-03-03 07:35:57.019\n",
       "2   29f7ed67-b42c-4bfe-9755-bcb89ba48e7b  126   99  28 2023-03-03 07:35:57.058\n",
       "3   29f7ed67-b42c-4bfe-9755-bcb89ba48e7b  126   99  28 2023-03-03 07:35:57.089\n",
       "4   29f7ed67-b42c-4bfe-9755-bcb89ba48e7b  122  100  28 2023-03-03 07:35:57.394\n",
       "5   29f7ed67-b42c-4bfe-9755-bcb89ba48e7b  120  100  28 2023-03-03 07:35:57.683\n",
       "6   29f7ed67-b42c-4bfe-9755-bcb89ba48e7b  119  100  28 2023-03-03 07:35:57.769\n",
       "7   29f7ed67-b42c-4bfe-9755-bcb89ba48e7b  119  100  28 2023-03-03 07:35:57.807\n",
       "8   29f7ed67-b42c-4bfe-9755-bcb89ba48e7b  116  101  28 2023-03-03 07:35:58.057\n",
       "9   29f7ed67-b42c-4bfe-9755-bcb89ba48e7b  116  101  28 2023-03-03 07:35:58.112\n",
       "10  29f7ed67-b42c-4bfe-9755-bcb89ba48e7b  113  102  28 2023-03-03 07:35:58.432\n",
       "11  29f7ed67-b42c-4bfe-9755-bcb89ba48e7b  113  102  28 2023-03-03 07:35:58.463\n",
       "12  29f7ed67-b42c-4bfe-9755-bcb89ba48e7b  113  102  28 2023-03-03 07:35:58.519\n",
       "13  29f7ed67-b42c-4bfe-9755-bcb89ba48e7b  110  103  29 2023-03-03 07:35:58.737\n",
       "14  29f7ed67-b42c-4bfe-9755-bcb89ba48e7b  109  103  29 2023-03-03 07:35:58.808\n",
       "15  29f7ed67-b42c-4bfe-9755-bcb89ba48e7b  108  103  29 2023-03-03 07:35:58.863\n",
       "16  29f7ed67-b42c-4bfe-9755-bcb89ba48e7b  107  103  29 2023-03-03 07:35:58.932\n",
       "17  29f7ed67-b42c-4bfe-9755-bcb89ba48e7b  105  104  29 2023-03-03 07:35:59.119\n",
       "18  29f7ed67-b42c-4bfe-9755-bcb89ba48e7b  103  104  29 2023-03-03 07:35:59.241\n",
       "19  29f7ed67-b42c-4bfe-9755-bcb89ba48e7b  103  104  29 2023-03-03 07:35:59.241"
      ]
     },
     "execution_count": 4,
     "metadata": {},
     "output_type": "execute_result"
    }
   ],
   "source": [
    "# Display first few rows\n",
    "df.head(20)"
   ]
  },
  {
   "cell_type": "code",
   "execution_count": 6,
   "id": "85003ce9",
   "metadata": {},
   "outputs": [
    {
     "data": {
      "text/plain": [
       "id                            int64\n",
       "uuid                         object\n",
       "turbine                      object\n",
       "size_category                object\n",
       "x                             int64\n",
       "y                             int64\n",
       "z                             int64\n",
       "time                 datetime64[ns]\n",
       "timestamp                     int64\n",
       "lat                         float64\n",
       "lng                         float64\n",
       "alt                           int64\n",
       "distance                      int64\n",
       "distance_absolute             int64\n",
       "dtype: object"
      ]
     },
     "execution_count": 6,
     "metadata": {},
     "output_type": "execute_result"
    }
   ],
   "source": [
    "# Check column data types\n",
    "df.dtypes"
   ]
  },
  {
   "cell_type": "code",
   "execution_count": 7,
   "id": "ce4d351f",
   "metadata": {},
   "outputs": [
    {
     "data": {
      "text/plain": [
       "id                   0\n",
       "uuid                 0\n",
       "turbine              0\n",
       "size_category        0\n",
       "x                    0\n",
       "y                    0\n",
       "z                    0\n",
       "time                 0\n",
       "timestamp            0\n",
       "lat                  0\n",
       "lng                  0\n",
       "alt                  0\n",
       "distance             0\n",
       "distance_absolute    0\n",
       "dtype: int64"
      ]
     },
     "execution_count": 7,
     "metadata": {},
     "output_type": "execute_result"
    }
   ],
   "source": [
    "# Check for missing values\n",
    "df.isna().sum()"
   ]
  },
  {
   "cell_type": "code",
   "execution_count": 8,
   "id": "edff6863",
   "metadata": {},
   "outputs": [
    {
     "data": {
      "text/plain": [
       "0"
      ]
     },
     "execution_count": 8,
     "metadata": {},
     "output_type": "execute_result"
    }
   ],
   "source": [
    "# Check for duplicates\n",
    "df.duplicated().sum()"
   ]
  },
  {
   "cell_type": "code",
   "execution_count": 9,
   "id": "9999ea8e",
   "metadata": {},
   "outputs": [
    {
     "data": {
      "text/plain": [
       "medium    5769844\n",
       "xlarge    1611418\n",
       "small     1202034\n",
       "usmall     757010\n",
       "large      332893\n",
       "Name: size_category, dtype: int64"
      ]
     },
     "execution_count": 9,
     "metadata": {},
     "output_type": "execute_result"
    }
   ],
   "source": [
    "# How many size_categories there are\n",
    "df['size_category'].value_counts()"
   ]
  },
  {
   "cell_type": "code",
   "execution_count": null,
   "id": "ed5d8b57",
   "metadata": {},
   "outputs": [
    {
     "data": {
      "text/plain": [
       "06b40806-8061-4af7-a551-69b3ec196f0c    80571\n",
       "fe09fe80-adca-48ca-8b1d-bd0d6478ea3d    54638\n",
       "fa9e4f2b-7f41-429c-9804-782e7f43a254    52583\n",
       "9a624ce6-0690-4f93-a2eb-741b8b9d48d5    51839\n",
       "b04cd8c2-299d-455d-8588-a15f3e38d5ab    47153\n",
       "                                        ...  \n",
       "b86d8052-8124-4b3b-a470-c8f0a961cdaf       10\n",
       "0442c749-e2d8-45e7-8ebe-afba64ef5fd2       10\n",
       "3c8b9ff9-4eda-4d02-ad29-1296bfe640ca       10\n",
       "f9e7573e-81e1-4713-96c5-2d0cc53661fa       10\n",
       "6f086967-0ed5-4aeb-91dc-135df94f690b       10\n",
       "Name: uuid, Length: 17760, dtype: int64"
      ]
     },
     "execution_count": 63,
     "metadata": {},
     "output_type": "execute_result"
    }
   ],
   "source": [
    "# How many distinct observations for each uuid are there\n",
    "df['uuid'].value_counts()"
   ]
  },
  {
   "cell_type": "code",
   "execution_count": 65,
   "id": "747caef9",
   "metadata": {},
   "outputs": [
    {
     "data": {
      "text/plain": [
       "<AxesSubplot:ylabel='Frequency'>"
      ]
     },
     "execution_count": 65,
     "metadata": {},
     "output_type": "execute_result"
    },
    {
     "data": {
      "image/png": "[encoded data removed]",
      "text/plain": [
       "<Figure size 432x288 with 1 Axes>"
      ]
     },
     "metadata": {
      "needs_background": "light"
     },
     "output_type": "display_data"
    }
   ],
   "source": [
    "# Check distribution of # of observations\n",
    "df['uuid'].value_counts().plot.hist(bins = 1000)"
   ]
  },
  {
   "cell_type": "code",
   "execution_count": null,
   "id": "db422727",
   "metadata": {},
   "outputs": [],
   "source": [
    "# Check largest uuid\n",
    "df_largest = df[df['uuid'] == '06b40806-8061-4af7-a551-69b3ec196f0c']\n",
    "df_largest.head(20)"
   ]
  },
  {
   "cell_type": "code",
   "execution_count": 4,
   "id": "2223ec71",
   "metadata": {},
   "outputs": [],
   "source": [
    "# Does 80000 observations of a single bird make sense?...\n",
    "df['uuid'].value_counts().quantile(q = 0.9)\n",
    "\n",
    "# 90% ob observations contain less than 1043 points. Let's get rid of observations of more than 1000 points\n",
    "df['count'] = df.groupby('uuid')['uuid'].transform('count')\n",
    "df = df[df['count'] < 1000].copy()"
   ]
  },
  {
   "cell_type": "code",
   "execution_count": 5,
   "id": "eb3bcded",
   "metadata": {},
   "outputs": [
    {
     "name": "stdout",
     "output_type": "stream",
     "text": [
      "Num of observations: 15904\n",
      "Number of rows: 3242155\n"
     ]
    }
   ],
   "source": [
    "# See how many observations we got\n",
    "print(f\"Num of observations: {len(df['uuid'].value_counts())}\")\n",
    "# See how many rows are left\n",
    "print(f\"Number of rows: {len(df)}\")"
   ]
  },
  {
   "cell_type": "code",
   "execution_count": 5,
   "id": "3364c622",
   "metadata": {},
   "outputs": [
    {
     "data": {
      "text/html": [
       "<div>\n",
       "<style scoped>\n",
       "    .dataframe tbody tr th:only-of-type {\n",
       "        vertical-align: middle;\n",
       "    }\n",
       "\n",
       "    .dataframe tbody tr th {\n",
       "        vertical-align: top;\n",
       "    }\n",
       "\n",
       "    .dataframe thead th {\n",
       "        text-align: right;\n",
       "    }\n",
       "</style>\n",
       "<table border=\"1\" class=\"dataframe\">\n",
       "  <thead>\n",
       "    <tr style=\"text-align: right;\">\n",
       "      <th></th>\n",
       "      <th>uuid</th>\n",
       "      <th>x</th>\n",
       "      <th>y</th>\n",
       "      <th>z</th>\n",
       "      <th>time</th>\n",
       "    </tr>\n",
       "  </thead>\n",
       "  <tbody>\n",
       "    <tr>\n",
       "      <th>8731450</th>\n",
       "      <td>0</td>\n",
       "      <td>-246</td>\n",
       "      <td>94</td>\n",
       "      <td>121</td>\n",
       "      <td>2023-03-11 17:33:10.452</td>\n",
       "    </tr>\n",
       "    <tr>\n",
       "      <th>8731459</th>\n",
       "      <td>0</td>\n",
       "      <td>-246</td>\n",
       "      <td>94</td>\n",
       "      <td>121</td>\n",
       "      <td>2023-03-11 17:33:10.521</td>\n",
       "    </tr>\n",
       "    <tr>\n",
       "      <th>8731470</th>\n",
       "      <td>0</td>\n",
       "      <td>-246</td>\n",
       "      <td>94</td>\n",
       "      <td>121</td>\n",
       "      <td>2023-03-11 17:33:10.572</td>\n",
       "    </tr>\n",
       "    <tr>\n",
       "      <th>8731478</th>\n",
       "      <td>0</td>\n",
       "      <td>-249</td>\n",
       "      <td>96</td>\n",
       "      <td>122</td>\n",
       "      <td>2023-03-11 17:33:10.638</td>\n",
       "    </tr>\n",
       "    <tr>\n",
       "      <th>8731488</th>\n",
       "      <td>0</td>\n",
       "      <td>-248</td>\n",
       "      <td>95</td>\n",
       "      <td>121</td>\n",
       "      <td>2023-03-11 17:33:10.740</td>\n",
       "    </tr>\n",
       "  </tbody>\n",
       "</table>\n",
       "</div>"
      ],
      "text/plain": [
       "         uuid    x   y    z                    time\n",
       "8731450     0 -246  94  121 2023-03-11 17:33:10.452\n",
       "8731459     0 -246  94  121 2023-03-11 17:33:10.521\n",
       "8731470     0 -246  94  121 2023-03-11 17:33:10.572\n",
       "8731478     0 -249  96  122 2023-03-11 17:33:10.638\n",
       "8731488     0 -248  95  121 2023-03-11 17:33:10.740"
      ]
     },
     "execution_count": 5,
     "metadata": {},
     "output_type": "execute_result"
    }
   ],
   "source": [
    "# Map uuid entries to indices\n",
    "\n",
    "# Get all uuid names\n",
    "uuid = df['uuid'].value_counts()\n",
    "# See how many uuid values there are\n",
    "num_of_entries = len(uuid)\n",
    "\n",
    "# Create dictionary mapping names in uuid to n\n",
    "rename_dict = {name:idx for idx, name in enumerate(list(uuid.index))}\n",
    "\n",
    "# Apply mapping\n",
    "df['uuid'] = df['uuid'].apply(lambda x: rename_dict[x])\n",
    "# df['uuid'].head()\n",
    "\n",
    "# Sort df entries by uuid and time\n",
    "df = df.sort_values(by = ['uuid', 'time'])\n",
    "df.head()"
   ]
  },
  {
   "cell_type": "code",
   "execution_count": 8,
   "id": "e7dc8db6",
   "metadata": {},
   "outputs": [
    {
     "data": {
      "text/html": [
       "<div>\n",
       "<style scoped>\n",
       "    .dataframe tbody tr th:only-of-type {\n",
       "        vertical-align: middle;\n",
       "    }\n",
       "\n",
       "    .dataframe tbody tr th {\n",
       "        vertical-align: top;\n",
       "    }\n",
       "\n",
       "    .dataframe thead th {\n",
       "        text-align: right;\n",
       "    }\n",
       "</style>\n",
       "<table border=\"1\" class=\"dataframe\">\n",
       "  <thead>\n",
       "    <tr style=\"text-align: right;\">\n",
       "      <th></th>\n",
       "      <th>uuid</th>\n",
       "      <th>x</th>\n",
       "      <th>y</th>\n",
       "      <th>z</th>\n",
       "      <th>time</th>\n",
       "      <th>count</th>\n",
       "    </tr>\n",
       "  </thead>\n",
       "  <tbody>\n",
       "    <tr>\n",
       "      <th>8960469</th>\n",
       "      <td>15902</td>\n",
       "      <td>-160</td>\n",
       "      <td>-91</td>\n",
       "      <td>28</td>\n",
       "      <td>2023-03-12 06:53:44.724</td>\n",
       "      <td>10</td>\n",
       "    </tr>\n",
       "    <tr>\n",
       "      <th>8960470</th>\n",
       "      <td>15902</td>\n",
       "      <td>-160</td>\n",
       "      <td>-91</td>\n",
       "      <td>28</td>\n",
       "      <td>2023-03-12 06:53:44.825</td>\n",
       "      <td>10</td>\n",
       "    </tr>\n",
       "    <tr>\n",
       "      <th>8960471</th>\n",
       "      <td>15902</td>\n",
       "      <td>-160</td>\n",
       "      <td>-91</td>\n",
       "      <td>28</td>\n",
       "      <td>2023-03-12 06:53:44.880</td>\n",
       "      <td>10</td>\n",
       "    </tr>\n",
       "    <tr>\n",
       "      <th>8960473</th>\n",
       "      <td>15902</td>\n",
       "      <td>-160</td>\n",
       "      <td>-91</td>\n",
       "      <td>28</td>\n",
       "      <td>2023-03-12 06:53:45.044</td>\n",
       "      <td>10</td>\n",
       "    </tr>\n",
       "    <tr>\n",
       "      <th>8960481</th>\n",
       "      <td>15902</td>\n",
       "      <td>-159</td>\n",
       "      <td>-91</td>\n",
       "      <td>28</td>\n",
       "      <td>2023-03-12 06:53:45.505</td>\n",
       "      <td>10</td>\n",
       "    </tr>\n",
       "    <tr>\n",
       "      <th>8960487</th>\n",
       "      <td>15902</td>\n",
       "      <td>-159</td>\n",
       "      <td>-92</td>\n",
       "      <td>29</td>\n",
       "      <td>2023-03-12 06:53:45.793</td>\n",
       "      <td>10</td>\n",
       "    </tr>\n",
       "    <tr>\n",
       "      <th>8960492</th>\n",
       "      <td>15902</td>\n",
       "      <td>-158</td>\n",
       "      <td>-92</td>\n",
       "      <td>29</td>\n",
       "      <td>2023-03-12 06:53:46.200</td>\n",
       "      <td>10</td>\n",
       "    </tr>\n",
       "    <tr>\n",
       "      <th>8960511</th>\n",
       "      <td>15902</td>\n",
       "      <td>-156</td>\n",
       "      <td>-94</td>\n",
       "      <td>32</td>\n",
       "      <td>2023-03-12 06:53:47.575</td>\n",
       "      <td>10</td>\n",
       "    </tr>\n",
       "    <tr>\n",
       "      <th>8960513</th>\n",
       "      <td>15902</td>\n",
       "      <td>-156</td>\n",
       "      <td>-94</td>\n",
       "      <td>32</td>\n",
       "      <td>2023-03-12 06:53:47.630</td>\n",
       "      <td>10</td>\n",
       "    </tr>\n",
       "    <tr>\n",
       "      <th>8960519</th>\n",
       "      <td>15902</td>\n",
       "      <td>-156</td>\n",
       "      <td>-95</td>\n",
       "      <td>32</td>\n",
       "      <td>2023-03-12 06:53:48.199</td>\n",
       "      <td>10</td>\n",
       "    </tr>\n",
       "    <tr>\n",
       "      <th>4477380</th>\n",
       "      <td>15903</td>\n",
       "      <td>-238</td>\n",
       "      <td>-91</td>\n",
       "      <td>280</td>\n",
       "      <td>2023-03-09 16:31:35.415</td>\n",
       "      <td>10</td>\n",
       "    </tr>\n",
       "    <tr>\n",
       "      <th>4477381</th>\n",
       "      <td>15903</td>\n",
       "      <td>-233</td>\n",
       "      <td>-89</td>\n",
       "      <td>283</td>\n",
       "      <td>2023-03-09 16:31:36.541</td>\n",
       "      <td>10</td>\n",
       "    </tr>\n",
       "    <tr>\n",
       "      <th>4477382</th>\n",
       "      <td>15903</td>\n",
       "      <td>-233</td>\n",
       "      <td>-88</td>\n",
       "      <td>283</td>\n",
       "      <td>2023-03-09 16:31:36.665</td>\n",
       "      <td>10</td>\n",
       "    </tr>\n",
       "    <tr>\n",
       "      <th>4477383</th>\n",
       "      <td>15903</td>\n",
       "      <td>-233</td>\n",
       "      <td>-88</td>\n",
       "      <td>283</td>\n",
       "      <td>2023-03-09 16:31:36.860</td>\n",
       "      <td>10</td>\n",
       "    </tr>\n",
       "    <tr>\n",
       "      <th>4477384</th>\n",
       "      <td>15903</td>\n",
       "      <td>-232</td>\n",
       "      <td>-88</td>\n",
       "      <td>283</td>\n",
       "      <td>2023-03-09 16:31:37.009</td>\n",
       "      <td>10</td>\n",
       "    </tr>\n",
       "    <tr>\n",
       "      <th>4477385</th>\n",
       "      <td>15903</td>\n",
       "      <td>-232</td>\n",
       "      <td>-88</td>\n",
       "      <td>284</td>\n",
       "      <td>2023-03-09 16:31:37.235</td>\n",
       "      <td>10</td>\n",
       "    </tr>\n",
       "    <tr>\n",
       "      <th>4477386</th>\n",
       "      <td>15903</td>\n",
       "      <td>-230</td>\n",
       "      <td>-87</td>\n",
       "      <td>285</td>\n",
       "      <td>2023-03-09 16:31:37.634</td>\n",
       "      <td>10</td>\n",
       "    </tr>\n",
       "    <tr>\n",
       "      <th>4477387</th>\n",
       "      <td>15903</td>\n",
       "      <td>-229</td>\n",
       "      <td>-86</td>\n",
       "      <td>285</td>\n",
       "      <td>2023-03-09 16:31:38.040</td>\n",
       "      <td>10</td>\n",
       "    </tr>\n",
       "    <tr>\n",
       "      <th>4477388</th>\n",
       "      <td>15903</td>\n",
       "      <td>-229</td>\n",
       "      <td>-86</td>\n",
       "      <td>285</td>\n",
       "      <td>2023-03-09 16:31:38.110</td>\n",
       "      <td>10</td>\n",
       "    </tr>\n",
       "    <tr>\n",
       "      <th>4477389</th>\n",
       "      <td>15903</td>\n",
       "      <td>-229</td>\n",
       "      <td>-86</td>\n",
       "      <td>285</td>\n",
       "      <td>2023-03-09 16:31:38.485</td>\n",
       "      <td>10</td>\n",
       "    </tr>\n",
       "  </tbody>\n",
       "</table>\n",
       "</div>"
      ],
      "text/plain": [
       "          uuid    x   y    z                    time  count\n",
       "8960469  15902 -160 -91   28 2023-03-12 06:53:44.724     10\n",
       "8960470  15902 -160 -91   28 2023-03-12 06:53:44.825     10\n",
       "8960471  15902 -160 -91   28 2023-03-12 06:53:44.880     10\n",
       "8960473  15902 -160 -91   28 2023-03-12 06:53:45.044     10\n",
       "8960481  15902 -159 -91   28 2023-03-12 06:53:45.505     10\n",
       "8960487  15902 -159 -92   29 2023-03-12 06:53:45.793     10\n",
       "8960492  15902 -158 -92   29 2023-03-12 06:53:46.200     10\n",
       "8960511  15902 -156 -94   32 2023-03-12 06:53:47.575     10\n",
       "8960513  15902 -156 -94   32 2023-03-12 06:53:47.630     10\n",
       "8960519  15902 -156 -95   32 2023-03-12 06:53:48.199     10\n",
       "4477380  15903 -238 -91  280 2023-03-09 16:31:35.415     10\n",
       "4477381  15903 -233 -89  283 2023-03-09 16:31:36.541     10\n",
       "4477382  15903 -233 -88  283 2023-03-09 16:31:36.665     10\n",
       "4477383  15903 -233 -88  283 2023-03-09 16:31:36.860     10\n",
       "4477384  15903 -232 -88  283 2023-03-09 16:31:37.009     10\n",
       "4477385  15903 -232 -88  284 2023-03-09 16:31:37.235     10\n",
       "4477386  15903 -230 -87  285 2023-03-09 16:31:37.634     10\n",
       "4477387  15903 -229 -86  285 2023-03-09 16:31:38.040     10\n",
       "4477388  15903 -229 -86  285 2023-03-09 16:31:38.110     10\n",
       "4477389  15903 -229 -86  285 2023-03-09 16:31:38.485     10"
      ]
     },
     "execution_count": 8,
     "metadata": {},
     "output_type": "execute_result"
    }
   ],
   "source": [
    "df.tail(20)"
   ]
  },
  {
   "cell_type": "code",
   "execution_count": 6,
   "id": "9526d75c",
   "metadata": {},
   "outputs": [],
   "source": [
    "# Normalize time within each flight\n",
    "df['time'] = df.groupby('uuid')['time'].transform(lambda x: x - x.min())\n",
    "# Convert to seconds\n",
    "df['time'] = df['time'].dt.total_seconds()"
   ]
  },
  {
   "cell_type": "code",
   "execution_count": 7,
   "id": "1dd30ad4",
   "metadata": {},
   "outputs": [],
   "source": [
    "# Calculate speed of each bird to identify supersonic birds\n",
    "\n",
    "# Calculate position increments\n",
    "delta_x = df.groupby('uuid')['x'].transform(lambda x: x - x.shift(1))\n",
    "delta_y = df.groupby('uuid')['y'].transform(lambda x: x - x.shift(1))\n",
    "delta_z = df.groupby('uuid')['z'].transform(lambda x: x - x.shift(1))\n",
    "# Calculate distance travelled\n",
    "distance = (delta_x**2 + delta_y**2 + delta_z**2)**(1/2)\n",
    "# Calculate speed\n",
    "df['speed'] = distance/df['time']"
   ]
  },
  {
   "cell_type": "code",
   "execution_count": null,
   "id": "fc46d218",
   "metadata": {},
   "outputs": [],
   "source": [
    "# Check distribution of speeds\n",
    "df['speed'].plot.hist(bins = 100)"
   ]
  },
  {
   "cell_type": "code",
   "execution_count": null,
   "id": "945eb974",
   "metadata": {},
   "outputs": [],
   "source": [
    "# Quite a few super-sonic birds... Nice!!!\n",
    "df[df['speed'] > 100]['speed'].plot.hist(bins=100)"
   ]
  },
  {
   "cell_type": "markdown",
   "id": "9b6e3df2",
   "metadata": {},
   "source": [
    "According to `ChatGPT`: The average speed of an ordinary bird can vary depending on factors such as species, size, and environmental conditions. However, as a rough estimate, many small to medium-sized birds can fly at speeds ranging from 20 to 50 kilometers per hour (**approximately 5.5 to 13.9 meters per second**). So, we can say the average speed of an ordinary bird is approximately 10 to 13 meters per second."
   ]
  },
  {
   "cell_type": "code",
   "execution_count": null,
   "id": "fcffef93",
   "metadata": {},
   "outputs": [],
   "source": [
    "# Filter only ordinary birds\n",
    "\n",
    "# Set max speed\n",
    "MAX_SPEED = 20\n",
    "# Get only ordinary birds\n",
    "df_no_supersonic_birds = df[df['speed'] < MAX_SPEED]\n",
    "\n",
    "# See how many rows were dropped\n",
    "print(f\"Before dropping supersonic birds: {len(df)}, after dropping: {len(df_no_supersonic_birds)}\")"
   ]
  }
 ],
 "metadata": {
  "kernelspec": {
   "display_name": ".venv",
   "language": "python",
   "name": "python3"
  },
  "language_info": {
   "codemirror_mode": {
    "name": "ipython",
    "version": 3
   },
   "file_extension": ".py",
   "mimetype": "text/x-python",
   "name": "python",
   "nbconvert_exporter": "python",
   "pygments_lexer": "ipython3",
   "version": "3.10.11"
  }
 },
 "nbformat": 4,
 "nbformat_minor": 5
}
